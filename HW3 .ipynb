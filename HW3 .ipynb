{
 "cells": [
  {
   "cell_type": "markdown",
   "id": "e2455b14",
   "metadata": {},
   "source": [
    "# HW3\n",
    "\n",
    "## Text Processing\n",
    "\n",
    "### Q1\n",
    "\n",
    "1. Modify the code I wrote in lecture 8 with what you have learnt in lecture 9 and correctly tokenize the text both on the word and sentence level, and by removing the stopwords. Rewrite the `getSummary` function and all the other functions that it depends by maing these corrections.\n",
    "\n",
    "2. Rewrite the code I wrote for `getKeywords` function making the same corrections.\n",
    "\n",
    "3. Test your code from parts 1 and 2 on random articles from the Guardian.\n",
    "\n",
    "4. Rewrite the `getSubjectGuardian` function for another newspaper in English, and test your code from part 1 and 2 on random articles from this new newspaper."
   ]
  },
  {
   "cell_type": "markdown",
   "id": "6b0dc25c",
   "metadata": {},
   "source": [
    "<hr>"
   ]
  },
  {
   "cell_type": "code",
   "execution_count": 1,
   "id": "952b4503",
   "metadata": {},
   "outputs": [],
   "source": [
    "import requests\n",
    "import nltk\n",
    "import regex as re\n",
    "import numpy as np"
   ]
  },
  {
   "cell_type": "code",
   "execution_count": 2,
   "id": "ebc3e3a4",
   "metadata": {},
   "outputs": [],
   "source": [
    "from nltk.tokenize import sent_tokenize, word_tokenize\n",
    "from nltk.corpus import stopwords\n",
    "\n",
    "from sklearn.decomposition import PCA\n",
    "from sklearn.feature_extraction.text import CountVectorizer"
   ]
  },
  {
   "cell_type": "markdown",
   "id": "9a94faf6",
   "metadata": {},
   "source": [
    "Q1-1) I modify the subfunction of getSummary, processText(), by using tokenization instead of regex for getting sentences and words:\n",
    "- I get sentences and words with tokenization instead of using regex.\n",
    "- Then, the next step is lowering the sentences and the words.\n",
    "- By filtering the list, the whitespaces strings and duplicating strings are removed from the word list."
   ]
  },
  {
   "cell_type": "code",
   "execution_count": 3,
   "id": "744d9ca1",
   "metadata": {},
   "outputs": [],
   "source": [
    "def processText(text):\n",
    "    raw_sentences = sent_tokenize(text)\n",
    "    raw_words = word_tokenize(text)\n",
    "    \n",
    "    res_text = {'sentences': raw_sentences,\n",
    "                    'words': raw_words}\n",
    "    \n",
    "    #\n",
    "    res_text.update({'cleanedSentences': [re.sub(r'[^\\p{Letter}\\s]','',sentence.lower()) for sentence in res_text['sentences']]})\n",
    "    \n",
    "    #getting nonempty words\n",
    "    tmp = [re.sub(r'[^\\p{Letter}]','',word.lower()) for word in res_text['words']]\n",
    "    words_nonempty = list(filter(lambda x: x != '', tmp))\n",
    "    #removing duplicating words\n",
    "    words_removedduplicates = []\n",
    "    [words_removedduplicates.append(x) for x in words_nonempty if x not in words_removedduplicates]\n",
    "    res_text.update({'cleanedWords': words_removedduplicates})\n",
    "    \n",
    "\n",
    "    return res_text"
   ]
  },
  {
   "cell_type": "markdown",
   "id": "ab325e38",
   "metadata": {},
   "source": [
    "I test tokenization and removing whitespaces if it is working or not."
   ]
  },
  {
   "cell_type": "code",
   "execution_count": 4,
   "id": "313c825d",
   "metadata": {},
   "outputs": [
    {
     "data": {
      "text/plain": [
       "(['my name is mr smith',\n",
       "  'i have a phd from mit',\n",
       "  'and i work at ibm',\n",
       "  'now look at pg',\n",
       "  ' of your text'],\n",
       " ['my',\n",
       "  'name',\n",
       "  'is',\n",
       "  'mr',\n",
       "  'smith',\n",
       "  'i',\n",
       "  'have',\n",
       "  'a',\n",
       "  'phd',\n",
       "  'from',\n",
       "  'mit',\n",
       "  'and',\n",
       "  'work',\n",
       "  'at',\n",
       "  'ibm',\n",
       "  'now',\n",
       "  'look',\n",
       "  'pg',\n",
       "  'of',\n",
       "  'your',\n",
       "  'text'])"
      ]
     },
     "execution_count": 4,
     "metadata": {},
     "output_type": "execute_result"
    }
   ],
   "source": [
    "text = 'My name is Mr. Smith. I have a Ph.D. from M.I.T. and I work at I.B.M. Now, look at pg. 12 of your text.'\n",
    "s = processText(text)['cleanedSentences']\n",
    "w = processText(text)['cleanedWords']\n",
    "(s,w)"
   ]
  },
  {
   "cell_type": "code",
   "execution_count": 5,
   "id": "b3a68b64",
   "metadata": {},
   "outputs": [],
   "source": [
    "def getMatrix(sentences):\n",
    "    vectorizer = CountVectorizer()\n",
    "    return vectorizer.fit_transform(sentences)"
   ]
  },
  {
   "cell_type": "code",
   "execution_count": 6,
   "id": "c32528c3",
   "metadata": {},
   "outputs": [],
   "source": [
    "def getSummary(text,k):\n",
    "    \n",
    "    sentences = processText(text)['cleanedSentences']\n",
    "    \n",
    "    matrix = getMatrix(sentences)\n",
    "    projection = PCA(n_components=1)\n",
    "    weights = projection.fit_transform(matrix.toarray())\n",
    "    res = list(zip(weights.transpose()[0],range(112),sentences))\n",
    "    tmp = sorted(res,key=lambda x: x[0],reverse=True)[:k]\n",
    "    return sorted(tmp, key=lambda x: x[1])"
   ]
  },
  {
   "cell_type": "markdown",
   "id": "d3ae449b",
   "metadata": {},
   "source": [
    "Q1-2) I rewrite the function getKeywords:\n",
    "- I get the words not in stop words sw."
   ]
  },
  {
   "cell_type": "code",
   "execution_count": 7,
   "id": "b71fb396",
   "metadata": {},
   "outputs": [],
   "source": [
    "def getKeywords(text,sw,k):\n",
    "    sentences = processText(text)['cleanedSentences']\n",
    "    \n",
    "    words = processText(text)['cleanedWords']\n",
    "    words_notstop = [w for w in words if not w in sw]\n",
    "\n",
    "    vectorizer = CountVectorizer(stop_words=sw)\n",
    "    matrix = vectorizer.fit_transform(sentences)\n",
    "    \n",
    "    projection = PCA(n_components=1)\n",
    "    tmp = projection.fit_transform(matrix.transpose().toarray())\n",
    "    weights = tmp.transpose()[0]\n",
    "    \n",
    "    return sorted(zip(weights,words_notstop),key=lambda x: x[0], reverse=True)[:k]"
   ]
  },
  {
   "cell_type": "markdown",
   "id": "91ae2447",
   "metadata": {},
   "source": [
    "I import the function parse for pulling the text of a link as a dictionary type."
   ]
  },
  {
   "cell_type": "code",
   "execution_count": 8,
   "id": "b82a5132",
   "metadata": {},
   "outputs": [],
   "source": [
    "from xmltodict import parse"
   ]
  },
  {
   "cell_type": "markdown",
   "id": "2fbf50e0",
   "metadata": {},
   "source": [
    "Q1-3) For a article from The Guardian, I will test the functions that i wrote earlier, getSummary and getKeywords."
   ]
  },
  {
   "cell_type": "markdown",
   "id": "5dfc2f0f",
   "metadata": {},
   "source": [
    "This function will be used for pulling the RSS feeds of The Guardian."
   ]
  },
  {
   "cell_type": "code",
   "execution_count": 9,
   "id": "34498952",
   "metadata": {},
   "outputs": [],
   "source": [
    "def getSubjectGuardian(subject):\n",
    "    with requests.get(f'https://www.theguardian.com/{subject}/rss') as link:\n",
    "        raw = parse(link.text)\n",
    "    return raw['rss']['channel']['item']"
   ]
  },
  {
   "cell_type": "markdown",
   "id": "4aa1e197",
   "metadata": {},
   "source": [
    "With the use of BeautifulSoup for extracting contents for each tag that is 'p'."
   ]
  },
  {
   "cell_type": "code",
   "execution_count": 10,
   "id": "a8eef851",
   "metadata": {},
   "outputs": [],
   "source": [
    "from bs4 import BeautifulSoup\n",
    "\n",
    "def getText(url):\n",
    "    with requests.get(url) as link:\n",
    "        tags = BeautifulSoup(link.content,'html.parser')\n",
    "        \n",
    "    return ' '.join([x.text for x in tags.find_all('p')])"
   ]
  },
  {
   "cell_type": "markdown",
   "id": "64872298",
   "metadata": {},
   "source": [
    "We have random articles, one from The Guardian."
   ]
  },
  {
   "cell_type": "code",
   "execution_count": 11,
   "id": "6c981ca8",
   "metadata": {},
   "outputs": [],
   "source": [
    "articles_theGuardian = getSubjectGuardian('sport')\n",
    "n = len(articles_theGuardian)\n",
    "k = np.random.randint(n)\n",
    "article_theGuardian = getText(articles_theGuardian[k]['link'])\n",
    "articletitle_theGuardian = articles_theGuardian[k]['title']"
   ]
  },
  {
   "cell_type": "markdown",
   "id": "7c9b7137",
   "metadata": {},
   "source": [
    "Q1-4) I overwrite the function for the RSS feeds of The Sun Daily. Just, the link was changed."
   ]
  },
  {
   "cell_type": "code",
   "execution_count": 12,
   "id": "0e4ccc2c",
   "metadata": {},
   "outputs": [],
   "source": [
    "def getSubjectGuardian2(subject):\n",
    "    with requests.get(f'https://www.thesundaily.my/rss/{subject}.xml') as link:\n",
    "        raw = parse(link.text)\n",
    "    return raw['rss']['channel']['item']"
   ]
  },
  {
   "cell_type": "markdown",
   "id": "ffc8f79a",
   "metadata": {},
   "source": [
    "And we have random articles, one from The Sun."
   ]
  },
  {
   "cell_type": "code",
   "execution_count": 13,
   "id": "29691392",
   "metadata": {},
   "outputs": [],
   "source": [
    "articles_theSun = getSubjectGuardian2('Sport')\n",
    "m = len(articles_theSun)\n",
    "l = np.random.randint(m)\n",
    "article_theSun = getText(articles_theSun[l]['link'])\n",
    "articletitle_theSun = articles_theSun[l]['title']"
   ]
  },
  {
   "cell_type": "markdown",
   "id": "64e12f31",
   "metadata": {},
   "source": [
    "** Note that, I also get the titles of the articles for better understanding if the results are relevant."
   ]
  },
  {
   "cell_type": "code",
   "execution_count": 14,
   "id": "84f49706",
   "metadata": {},
   "outputs": [
    {
     "data": {
      "text/plain": [
       "('Bradley Wiggins’s pain shows us that sport needs to prioritise welfare too',\n",
       " 'City’s Fernandinho vows no let-up against Real Madrid')"
      ]
     },
     "execution_count": 14,
     "metadata": {},
     "output_type": "execute_result"
    }
   ],
   "source": [
    "(articletitle_theGuardian,articletitle_theSun)"
   ]
  },
  {
   "cell_type": "markdown",
   "id": "874dd9a0",
   "metadata": {},
   "source": [
    "The Guardian Section : "
   ]
  },
  {
   "cell_type": "code",
   "execution_count": 15,
   "id": "b8335be4",
   "metadata": {},
   "outputs": [
    {
     "data": {
      "text/plain": [
       "[(8.508084523725085,\n",
       "  9,\n",
       "  'first that safe sport must be the first priority but for many it still isnt second that certain aspects of highperformance environments that are often admired  from behaviours of obsessive dedication placing winning above everything else and the power balance within coachathlete relationships  contribute to a darker side of sport that brings heavy longterm costs and third that our focus on heroic narratives throughout sport is at best misleading and at times deeply damaging distracting us from the real stories of the people behind the hero masks'),\n",
       " (4.469335379744962,\n",
       "  17,\n",
       "  'in grassroots clubs parents often brought up in a culture where having a medal brought status recognition and opportunity easily buy in to wanting that for their children not realising the costs or that there is so much more to gain through sport that would outlast trophies and coaches who know their jobs depend on shortterm results are disincentivised from investing in the longterm holistic development of their athletes'),\n",
       " (5.304097295277033,\n",
       "  32,\n",
       "  'but when we own the story we can write a brave new ending at the same time as wiggins and shriver begin to write their brave new endings there is a wider challenge for governing bodies and sports organisations for coaches and athletes and all of us involved in sport to ensure that together we start developing a different braver future for sport creating better safer success metrics and redefining what success in sport looks like')]"
      ]
     },
     "execution_count": 15,
     "metadata": {},
     "output_type": "execute_result"
    }
   ],
   "source": [
    "getSummary(article_theGuardian,3)"
   ]
  },
  {
   "cell_type": "code",
   "execution_count": 16,
   "id": "69eaa0a7",
   "metadata": {},
   "outputs": [
    {
     "data": {
      "text/plain": [
       "[(5.070245012128429, 'hold'),\n",
       " (1.267126281331729, 'braver'),\n",
       " (1.1556118227821273, 'holistic'),\n",
       " (1.1164323001408554, 'best'),\n",
       " (1.0952928906645596, 'pam'),\n",
       " (1.0952928906645596, 'foundation'),\n",
       " (1.0928430240538194, 'models'),\n",
       " (0.8787341921021443, 'paris'),\n",
       " (0.8682950551356036, 'ready'),\n",
       " (0.8600490449473461, 'whether'),\n",
       " (0.6368830264285261, 'defines'),\n",
       " (0.6110418129223201, 'shortterm'),\n",
       " (0.6063550641021692, 'broader'),\n",
       " (0.6046995151130318, 'order'),\n",
       " (0.5859961376714278, 'social')]"
      ]
     },
     "execution_count": 16,
     "metadata": {},
     "output_type": "execute_result"
    }
   ],
   "source": [
    "swEN = set(stopwords.words('english'))\n",
    "getKeywords(article_theGuardian,swEN,15)"
   ]
  },
  {
   "cell_type": "markdown",
   "id": "7f918b66",
   "metadata": {},
   "source": [
    "The Sun section :"
   ]
  },
  {
   "cell_type": "code",
   "execution_count": 17,
   "id": "db31bd0d",
   "metadata": {},
   "outputs": [
    {
     "data": {
      "text/plain": [
       "[(-0.16576711418827936,\n",
       "  1,\n",
       "  'city held a twogoal lead three times at the etihad but real having come from behind in the previous rounds against paris saintgermain and chelsea responded yet again'),\n",
       " (10.315086599170332,\n",
       "  7,\n",
       "  'they have top players and in the meantime they can create chances and score goals so you have to be careful all the time the brazil international who came off the bench to play at rightback for the injured john stones in the first half said city were disappointed to concede three goals but the win would give them confidence for the return fixture at the bernabeu on may '),\n",
       " (0.31853313104560177,\n",
       "  9,\n",
       "  'fernandinho said it is the same as always  when we win we celebrate and then focus on the next game in the premier league')]"
      ]
     },
     "execution_count": 17,
     "metadata": {},
     "output_type": "execute_result"
    }
   ],
   "source": [
    "getSummary(article_theSun,3)"
   ]
  },
  {
   "cell_type": "code",
   "execution_count": 18,
   "id": "279c6384",
   "metadata": {},
   "outputs": [
    {
     "data": {
      "text/plain": [
       "[(1.5214518391540317, 'reason'),\n",
       " (1.1979363766939983, 'twogoal'),\n",
       " (0.9733000491303266, 'behind'),\n",
       " (0.9733000491303266, 'rounds'),\n",
       " (0.8163167337317945, 'always'),\n",
       " (0.7336309930084619, 'international'),\n",
       " (0.7122431233823232, 'return'),\n",
       " (0.7122431233823232, 'thinking'),\n",
       " (0.6889044989422013, 'madrid'),\n",
       " (0.6889044989422012, 'backyard'),\n",
       " (0.6889044989422012, 'first'),\n",
       " (0.6889044989422012, 'leg'),\n",
       " (0.6889044989422012, 'league'),\n",
       " (0.6889044989422012, 'previous'),\n",
       " (0.6889044989422012, 'responded')]"
      ]
     },
     "execution_count": 18,
     "metadata": {},
     "output_type": "execute_result"
    }
   ],
   "source": [
    "getKeywords(article_theSun,swEN,15)"
   ]
  },
  {
   "cell_type": "markdown",
   "id": "c148a291",
   "metadata": {},
   "source": [
    "### Q2\n",
    "\n",
    "Write a function that returns all named entities (proper names, country names, corporation names only) from a URL. Function should take the URL as the input and must return the list of named entities from that URL. Test your code on random articles from the Guardian. Don't use the NLTK's NER that I demonstrated during the lecture. Use the SpaCY's NER function."
   ]
  },
  {
   "cell_type": "markdown",
   "id": "a6bc142f",
   "metadata": {},
   "source": [
    "I downloaded spacy with this code :\n",
    "```import sys\n",
    "!{sys.executable} -m pip install spacy\n",
    "!{sys.executable} -m spacy download en```"
   ]
  },
  {
   "cell_type": "markdown",
   "id": "f8c4f7c4",
   "metadata": {},
   "source": [
    "I have used spacy.explain(token.label_) for pulling Proper Names, Country Names and Corporation Names. Then, I decided to take the tokens whose label_ are PERSON, GPE or ORG."
   ]
  },
  {
   "cell_type": "code",
   "execution_count": 19,
   "id": "54d4c15b",
   "metadata": {},
   "outputs": [],
   "source": [
    "import spacy\n",
    "\n",
    "def SpacyNER(text):\n",
    "    nlp = spacy.load(\"en_core_web_sm\")\n",
    "    doc = nlp(text)\n",
    "    res = [ (token.text,token.label_,spacy.explain(token.label_)) for token in doc.ents if token.label_ in ['GPE','PERSON','ORG']]\n",
    "    \n",
    "    #sentences = sent_tokenize(text)\n",
    "    #res = []\n",
    "    #for i in range(len(sentences)):\n",
    "    #    doc = nlp(sentences[i])\n",
    "    #   res.append([ (token.text,token.label_,spacy.explain(token.label_)) for token in doc.ents])\n",
    "\n",
    "\n",
    "    return res"
   ]
  },
  {
   "cell_type": "markdown",
   "id": "4e1e9c88",
   "metadata": {},
   "source": [
    "Here is a test for a random article from The Guardian :"
   ]
  },
  {
   "cell_type": "code",
   "execution_count": 20,
   "id": "c6a50751",
   "metadata": {},
   "outputs": [
    {
     "data": {
      "text/plain": [
       "[('LinkedTok', 'ORG', 'Companies, agencies, institutions, etc.'),\n",
       " ('Fiver', 'ORG', 'Companies, agencies, institutions, etc.'),\n",
       " ('The Fiver', 'ORG', 'Companies, agencies, institutions, etc.'),\n",
       " ('Ralf Rangnick', 'PERSON', 'People, including fictional'),\n",
       " ('Big Red', 'ORG', 'Companies, agencies, institutions, etc.'),\n",
       " ('Old Trafford', 'PERSON', 'People, including fictional'),\n",
       " ('Thomas Frank', 'PERSON', 'People, including fictional'),\n",
       " ('Ole Gunnar Solskjær', 'PERSON', 'People, including fictional'),\n",
       " ('Premier League', 'ORG', 'Companies, agencies, institutions, etc.'),\n",
       " ('Watford', 'ORG', 'Companies, agencies, institutions, etc.'),\n",
       " ('Chelsea', 'ORG', 'Companies, agencies, institutions, etc.'),\n",
       " ('Cristiano Ronaldo', 'PERSON', 'People, including fictional'),\n",
       " ('United’s', 'ORG', 'Companies, agencies, institutions, etc.'),\n",
       " ('Ralfie', 'ORG', 'Companies, agencies, institutions, etc.'),\n",
       " ('United', 'ORG', 'Companies, agencies, institutions, etc.'),\n",
       " ('United', 'ORG', 'Companies, agencies, institutions, etc.'),\n",
       " ('Erik', 'PERSON', 'People, including fictional'),\n",
       " ('Fiver', 'ORG', 'Companies, agencies, institutions, etc.'),\n",
       " ('Manchester United', 'ORG', 'Companies, agencies, institutions, etc.'),\n",
       " ('Ralf Rangnick', 'PERSON', 'People, including fictional'),\n",
       " ('Graeme Lee', 'PERSON', 'People, including fictional'),\n",
       " ('Mark Shelton', 'PERSON', 'People, including fictional'),\n",
       " ('Firewall', 'PERSON', 'People, including fictional'),\n",
       " ('Football Weekly Extra', 'ORG', 'Companies, agencies, institutions, etc.'),\n",
       " ('Max', 'PERSON', 'People, including fictional'),\n",
       " ('Barry', 'PERSON', 'People, including fictional'),\n",
       " ('Dublin', 'GPE', 'Countries, cities, states'),\n",
       " ('Liverpool’s', 'ORG', 'Companies, agencies, institutions, etc.'),\n",
       " ('Anfield', 'ORG', 'Companies, agencies, institutions, etc.'),\n",
       " ('Klopp Top Kop Mop', 'PERSON', 'People, including fictional'),\n",
       " ('R Reisman', 'PERSON', 'People, including fictional'),\n",
       " ('Jeremy Foxon’s', 'PERSON', 'People, including fictional'),\n",
       " ('Denmark', 'GPE', 'Countries, cities, states'),\n",
       " ('Netherlands', 'GPE', 'Countries, cities, states'),\n",
       " ('Livingston', 'PERSON', 'People, including fictional'),\n",
       " ('LIV', 'ORG', 'Companies, agencies, institutions, etc.'),\n",
       " ('Arbroath v Bradford City', 'PERSON', 'People, including fictional'),\n",
       " ('CAR', 'ORG', 'Companies, agencies, institutions, etc.'),\n",
       " ('Torquay', 'PERSON', 'People, including fictional'),\n",
       " ('Macclesfield', 'PERSON', 'People, including fictional'),\n",
       " ('Cambridge', 'GPE', 'Countries, cities, states'),\n",
       " ('MAC', 'ORG', 'Companies, agencies, institutions, etc.'),\n",
       " ('CAM', 'ORG', 'Companies, agencies, institutions, etc.'),\n",
       " ('Roy Saunders', 'PERSON', 'People, including fictional'),\n",
       " ('Roy Saunders', 'PERSON', 'People, including fictional'),\n",
       " ('UK', 'GPE', 'Countries, cities, states'),\n",
       " ('Jim Ratcliffe', 'PERSON', 'People, including fictional'),\n",
       " ('Chelsea', 'ORG', 'Companies, agencies, institutions, etc.'),\n",
       " ('Ineos', 'ORG', 'Companies, agencies, institutions, etc.'),\n",
       " ('London', 'GPE', 'Countries, cities, states'),\n",
       " ('Eintracht Frankfurt', 'ORG', 'Companies, agencies, institutions, etc.'),\n",
       " ('Jürgen Klopp', 'PERSON', 'People, including fictional'),\n",
       " ('Mo Salah', 'PERSON', 'People, including fictional'),\n",
       " ('Sadio Mané', 'PERSON', 'People, including fictional'),\n",
       " ('Liverpool', 'GPE', 'Countries, cities, states'),\n",
       " ('Channel 4', 'ORG', 'Companies, agencies, institutions, etc.'),\n",
       " ('England', 'GPE', 'Countries, cities, states'),\n",
       " ('Brookside', 'ORG', 'Companies, agencies, institutions, etc.'),\n",
       " ('The Crystal Maze', 'ORG', 'Companies, agencies, institutions, etc.'),\n",
       " ('Jesse Marsch', 'PERSON', 'People, including fictional'),\n",
       " ('Leeds', 'PERSON', 'People, including fictional'),\n",
       " ('Manchester City', 'GPE', 'Countries, cities, states'),\n",
       " ('Mbe', 'ORG', 'Companies, agencies, institutions, etc.'),\n",
       " ('Aston Villa', 'ORG', 'Companies, agencies, institutions, etc.'),\n",
       " ('Norwich', 'PERSON', 'People, including fictional'),\n",
       " ('Postecoglu', 'ORG', 'Companies, agencies, institutions, etc.'),\n",
       " ('WhatsBook', 'ORG', 'Companies, agencies, institutions, etc.'),\n",
       " ('Wales', 'GPE', 'Countries, cities, states'),\n",
       " ('Tony Roberts', 'PERSON', 'People, including fictional'),\n",
       " ('Ben Fisher', 'PERSON', 'People, including fictional'),\n",
       " ('Bobby Copping', 'PERSON', 'People, including fictional'),\n",
       " ('Ryan Baldi', 'PERSON', 'People, including fictional'),\n",
       " ('Michail Antonio’s', 'PERSON', 'People, including fictional'),\n",
       " ('Eintracht', 'ORG', 'Companies, agencies, institutions, etc.'),\n",
       " ('Jonathan Liew', 'PERSON', 'People, including fictional'),\n",
       " ('INSTACHAT', 'ORG', 'Companies, agencies, institutions, etc.'),\n",
       " ('TOO', 'ORG', 'Companies, agencies, institutions, etc.')]"
      ]
     },
     "execution_count": 20,
     "metadata": {},
     "output_type": "execute_result"
    }
   ],
   "source": [
    "articles_theGuardian = getSubjectGuardian('sport')\n",
    "n = len(articles_theGuardian)\n",
    "k = np.random.randint(n)\n",
    "article_theGuardian = getText(articles_theGuardian[k]['link'])\n",
    "\n",
    "SpacyNER(article_theGuardian)"
   ]
  },
  {
   "cell_type": "markdown",
   "id": "82d80aaa",
   "metadata": {},
   "source": [
    "### Q3\n",
    "\n",
    "1. Write a function that returns the most positive and the most negative sentences from a text. The function must take the text as the input and must return a 2-tuple: the first element as the most positive and the second as the most negative sentence with their polarity scores.\n",
    "\n",
    "2. Test your function on random articles from the Guardian."
   ]
  },
  {
   "cell_type": "code",
   "execution_count": 21,
   "id": "732d95a3",
   "metadata": {},
   "outputs": [],
   "source": [
    "from nltk.sentiment import SentimentIntensityAnalyzer\n",
    "#nltk.download('vader_lexicon')"
   ]
  },
  {
   "cell_type": "markdown",
   "id": "e8bf6d9d",
   "metadata": {},
   "source": [
    "Q3-1) Variable res contains the sentences and their polarity scores. For sentences, I create 2 lists that hold their positive and negative scores. Finally, using max() on lists with respect to their scores gives me the most positive one and the most negative one."
   ]
  },
  {
   "cell_type": "code",
   "execution_count": 22,
   "id": "a7d872d9",
   "metadata": {},
   "outputs": [],
   "source": [
    "def Sentiments(text):\n",
    "    analyzer = SentimentIntensityAnalyzer()\n",
    "    analyzer.polarity_scores(text)\n",
    "    sentences = sent_tokenize(text)\n",
    "    res = [(x,analyzer.polarity_scores(x)) for x in sentences]\n",
    "    \n",
    "    # Getting list of Negative Sentences and Positive Sentences\n",
    "    list_neg = [ (sentence[0] , sentence[1]['neg']) for sentence in res]\n",
    "    list_pos = [ (sentence[0] , sentence[1]['pos']) for sentence in res]\n",
    "    \n",
    "    # Getting most negative and most positive\n",
    "    max_neg = max(list_neg,key=lambda x:x[1])\n",
    "    max_pos = max(list_pos,key=lambda x:x[1])\n",
    "    return ({'most positive':max_pos},\n",
    "            {'most negative':max_neg})"
   ]
  },
  {
   "cell_type": "markdown",
   "id": "71afa2bc",
   "metadata": {},
   "source": [
    "Q3-2) I test my function :"
   ]
  },
  {
   "cell_type": "code",
   "execution_count": 31,
   "id": "cc3f4dc8",
   "metadata": {},
   "outputs": [
    {
     "data": {
      "text/plain": [
       "({'most positive': ('That is what inspiring the next generation surely means.',\n",
       "   0.449)},\n",
       " {'most negative': ('Why the delay?', 0.535)})"
      ]
     },
     "execution_count": 31,
     "metadata": {},
     "output_type": "execute_result"
    }
   ],
   "source": [
    "articles_theGuardian = getSubjectGuardian('sport')\n",
    "n = len(articles_theGuardian)\n",
    "k = np.random.randint(n)\n",
    "article_theGuardian = getText(articles_theGuardian[k]['link'])\n",
    "\n",
    "Sentiments(article_theGuardian)"
   ]
  },
  {
   "cell_type": "markdown",
   "id": "079a2a09",
   "metadata": {},
   "source": [
    "We check whether it is true or false."
   ]
  },
  {
   "cell_type": "code",
   "execution_count": 32,
   "id": "567b3594",
   "metadata": {},
   "outputs": [
    {
     "data": {
      "text/plain": [
       "[('Coaches and leaders must apply equal rigour to creating safe environments as they have long done to winning It’s hard to recall Bradley Wiggins sitting on his throne at Hampton Court, riding into Paris with the yellow jersey, or ringing the bell to start the 2012 London Olympics opening ceremony without now seeing through to the secret he was carrying inside him on all those occasions.',\n",
       "  {'neg': 0.019, 'neu': 0.862, 'pos': 0.118, 'compound': 0.7964}),\n",
       " ('It took Wiggins nearly three decades to share his experience of grooming at the age of 13.',\n",
       "  {'neg': 0.0, 'neu': 0.879, 'pos': 0.121, 'compound': 0.296}),\n",
       " ('It took Pam Shriver four decades to share her story of an emotionally abusive relationship with a coach.',\n",
       "  {'neg': 0.196, 'neu': 0.701, 'pos': 0.103, 'compound': -0.4588}),\n",
       " ('What about the other stories that haven’t yet been heard?',\n",
       "  {'neg': 0.0, 'neu': 1.0, 'pos': 0.0, 'compound': 0.0}),\n",
       " ('While there is shock and sympathy, we must go further to draw out what needs to change and why change still hasn’t happened.',\n",
       "  {'neg': 0.1, 'neu': 0.805, 'pos': 0.096, 'compound': -0.0258}),\n",
       " ('After the revelations from Wiggins and Shriver, there has never been a more important time for any of us involved in sport, whether as athletes, coaches, parents, leaders, volunteers or journalists, to realise our responsibility to change.',\n",
       "  {'neg': 0.049, 'neu': 0.951, 'pos': 0.0, 'compound': -0.2044}),\n",
       " ('To challenge our assumptions about what healthy grassroots and high-performance sport looks and feels like.',\n",
       "  {'neg': 0.0, 'neu': 0.649, 'pos': 0.351, 'compound': 0.6705}),\n",
       " ('And to take positive action to create a different experience of sport for current and future generations.',\n",
       "  {'neg': 0.0, 'neu': 0.711, 'pos': 0.289, 'compound': 0.6908}),\n",
       " ('There seem to be three key messages from the stories of the past week.',\n",
       "  {'neg': 0.0, 'neu': 1.0, 'pos': 0.0, 'compound': 0.0}),\n",
       " ('First, that safe sport must be the first priority, but for many, it still isn’t; second, that certain aspects of high-performance environments that are often admired – from behaviours of obsessive dedication, placing winning above everything else and the power balance within coach-athlete relationships – contribute to a darker side of sport that brings heavy long-term costs; and third, that our focus on heroic narratives throughout sport is at best misleading and at times deeply damaging, distracting us from the real stories of the people behind the hero masks.',\n",
       "  {'neg': 0.118, 'neu': 0.634, 'pos': 0.247, 'compound': 0.9534}),\n",
       " ('Last week marked five years since Tanni Grey-Thompson’s Duty of Care in Sport report with multiple recommendations still to implement.',\n",
       "  {'neg': 0.0, 'neu': 0.856, 'pos': 0.144, 'compound': 0.4939}),\n",
       " ('Why the delay?',\n",
       "  {'neg': 0.535, 'neu': 0.465, 'pos': 0.0, 'compound': -0.3182}),\n",
       " ('A new report by the athlete-led Kyniska Advocacy group, Stamping Out Sexual Violence in Sport, calls for urgent action.',\n",
       "  {'neg': 0.187, 'neu': 0.731, 'pos': 0.082, 'compound': -0.5106}),\n",
       " ('What excuses can there be not to protect young people in sport?',\n",
       "  {'neg': 0.166, 'neu': 0.834, 'pos': 0.0, 'compound': -0.2924}),\n",
       " ('Leaders across sport have failed to prioritise safe sport over medals and trophies.',\n",
       "  {'neg': 0.192, 'neu': 0.64, 'pos': 0.169, 'compound': -0.1027}),\n",
       " ('Many more are complicit in this – the media hound sports only about their results; sponsors are primarily interested in funding those who are going to win in the short-term; at government level, the short-term boost to national pride from hosting sporting events or winning medals is prioritised over longer-term opportunities for human and social development through sport.',\n",
       "  {'neg': 0.0, 'neu': 0.743, 'pos': 0.257, 'compound': 0.9485}),\n",
       " ('In the Olympic world, funding flows to the sports that bring home bags of medals and culture audits added in recent years quickly became tick-box exercises.',\n",
       "  {'neg': 0.0, 'neu': 1.0, 'pos': 0.0, 'compound': 0.0}),\n",
       " ('In grassroots clubs, parents often brought up in a culture where having a medal brought status, recognition and opportunity, easily buy in to wanting that for their children, not realising the costs or that there is so much more to gain through sport that would outlast trophies; and coaches who know their jobs depend on short-term results are disincentivised from investing in the long-term holistic development of their athletes.',\n",
       "  {'neg': 0.0, 'neu': 0.84, 'pos': 0.16, 'compound': 0.8996}),\n",
       " ('Wiggins’s story of grooming at the age of 13 paints a troubling picture of youth abuse in sport.',\n",
       "  {'neg': 0.339, 'neu': 0.661, 'pos': 0.0, 'compound': -0.8271}),\n",
       " ('He describes his subsequent behaviour as a “loner”, “insular”, “strange teenager” and links that directly to the ensuing “drive on the bike”.',\n",
       "  {'neg': 0.0, 'neu': 1.0, 'pos': 0.0, 'compound': 0.0}),\n",
       " ('To realise his much-admired competitive drive stemmed from such an abhorrent experience challenges us to stop and think twice about the sorts of competitive behaviours that we might push youngsters to emulate.',\n",
       "  {'neg': 0.166, 'neu': 0.711, 'pos': 0.124, 'compound': -0.5574}),\n",
       " ('Across the Olympic and Paralympic performance world, there is a belief that when teams are winning medals, you can’t be criticised or asked to change.',\n",
       "  {'neg': 0.099, 'neu': 0.78, 'pos': 0.121, 'compound': 0.1531}),\n",
       " ('Then, when issues have emerged, there has been a token response, a new policy drawn up or training course delivered – but the deep culture of behaviours and beliefs stays the same.',\n",
       "  {'neg': 0.0, 'neu': 1.0, 'pos': 0.0, 'compound': 0.0}),\n",
       " ('That British Gymnastics’ integrity unit was getting five stars for its work at the same time as stories of alleged abuse at multiple clubs tells us what the gap between superficial change and real change looks like.',\n",
       "  {'neg': 0.097, 'neu': 0.785, 'pos': 0.118, 'compound': -0.0258}),\n",
       " ('The stories this week follow on from Simone Biles’s shock decision to step back from competing at the Tokyo Olympics in order to prioritise her mental and physical health.',\n",
       "  {'neg': 0.085, 'neu': 0.915, 'pos': 0.0, 'compound': -0.3818}),\n",
       " ('Coaches, leaders and athletes all have an opportunity to apply the rigour they have long applied to winning medals to creating a better, safer environment within which to pursue those medals.',\n",
       "  {'neg': 0.0, 'neu': 0.639, 'pos': 0.361, 'compound': 0.9201}),\n",
       " ('We need different goals, broader ambitions and success criteria beyond short-term, temporary, narrow outcomes.',\n",
       "  {'neg': 0.0, 'neu': 0.778, 'pos': 0.222, 'compound': 0.5719}),\n",
       " ('Human stories hold the answer: surely the goal has to be the story athletes tell beyond the result.',\n",
       "  {'neg': 0.0, 'neu': 0.854, 'pos': 0.146, 'compound': 0.4404}),\n",
       " ('The story they tell when they leave the sport, when they step off the podium or maybe don’t make the podium, and the story coaches tell of what they are valued for.',\n",
       "  {'neg': 0.035, 'neu': 0.88, 'pos': 0.085, 'compound': 0.4019}),\n",
       " ('Our objective should be to create environments where athletes leave sport with a positive story regardless of the result, ready to give back as role models and perhaps as a volunteer, coach or board member.',\n",
       "  {'neg': 0.031, 'neu': 0.755, 'pos': 0.214, 'compound': 0.7906}),\n",
       " ('That is what inspiring the next generation surely means.',\n",
       "  {'neg': 0.0, 'neu': 0.551, 'pos': 0.449, 'compound': 0.6908}),\n",
       " ('The American professor and writer Prof Brené Brown said: “When we deny the story it defines us.',\n",
       "  {'neg': 0.13, 'neu': 0.87, 'pos': 0.0, 'compound': -0.34}),\n",
       " ('But when we own the story we can write a brave new ending.” At the same time as Wiggins and Shriver begin to write their brave new endings, there is a wider challenge for governing bodies and sports organisations, for coaches and athletes and all of us involved in sport to ensure that together we start developing a different, braver future for sport: creating better, safer success metrics and redefining what success in sport looks like.',\n",
       "  {'neg': 0.0, 'neu': 0.594, 'pos': 0.406, 'compound': 0.9925}),\n",
       " ('Cath Bishop is an Olympic rower, former diplomat and author of The Long Win.',\n",
       "  {'neg': 0.0, 'neu': 0.774, 'pos': 0.226, 'compound': 0.5859}),\n",
       " ('She is an adviser to The True Athlete Project and chair of Love Rowing, GB Rowing’s charitable foundation',\n",
       "  {'neg': 0.0, 'neu': 0.607, 'pos': 0.393, 'compound': 0.8658})]"
      ]
     },
     "execution_count": 32,
     "metadata": {},
     "output_type": "execute_result"
    }
   ],
   "source": [
    "text = article_theGuardian\n",
    "analyzer = SentimentIntensityAnalyzer()\n",
    "analyzer.polarity_scores(text)\n",
    "sentences = sent_tokenize(text)\n",
    "[(x,analyzer.polarity_scores(x)) for x in sentences]"
   ]
  },
  {
   "cell_type": "code",
   "execution_count": null,
   "id": "482c450f",
   "metadata": {},
   "outputs": [],
   "source": []
  }
 ],
 "metadata": {
  "kernelspec": {
   "display_name": "Python 3 (ipykernel)",
   "language": "python",
   "name": "python3"
  },
  "language_info": {
   "codemirror_mode": {
    "name": "ipython",
    "version": 3
   },
   "file_extension": ".py",
   "mimetype": "text/x-python",
   "name": "python",
   "nbconvert_exporter": "python",
   "pygments_lexer": "ipython3",
   "version": "3.9.7"
  }
 },
 "nbformat": 4,
 "nbformat_minor": 5
}
