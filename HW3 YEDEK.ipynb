{
 "cells": [
  {
   "cell_type": "markdown",
   "id": "e2455b14",
   "metadata": {},
   "source": [
    "# HW3\n",
    "\n",
    "## Text Processing\n",
    "\n",
    "### Q1\n",
    "\n",
    "1. Modify the code I wrote in lecture 8 with what you have learnt in lecture 9 and correctly tokenize the text both on the word and sentence level, and by removing the stopwords. Rewrite the `getSummary` function and all the other functions that it depends by maing these corrections.\n",
    "\n",
    "2. Rewrite the code I wrote for `getKeywords` function making the same corrections.\n",
    "\n",
    "3. Test your code from parts 1 and 2 on random articles from the Guardian.\n",
    "\n",
    "4. Rewrite the `getSubjectGuardian` function for another newspaper in English, and test your code from part 1 and 2 on random articles from this new newspaper."
   ]
  },
  {
   "cell_type": "markdown",
   "id": "6b0dc25c",
   "metadata": {},
   "source": [
    "<hr>"
   ]
  },
  {
   "cell_type": "markdown",
   "id": "bae8092b",
   "metadata": {},
   "source": [
    "NLTK large scale'de yavaş olduğundan Fast Tokenizer kullanabiliriz."
   ]
  },
  {
   "cell_type": "code",
   "execution_count": 64,
   "id": "952b4503",
   "metadata": {},
   "outputs": [],
   "source": [
    "import requests\n",
    "import nltk\n",
    "import regex as re\n",
    "import numpy as np"
   ]
  },
  {
   "cell_type": "code",
   "execution_count": 90,
   "id": "ebc3e3a4",
   "metadata": {},
   "outputs": [],
   "source": [
    "from xmltodict import parse\n",
    "\n",
    "from nltk.tokenize import sent_tokenize, word_tokenize\n",
    "from nltk.corpus import stopwords\n",
    "\n",
    "from sklearn.decomposition import PCA\n",
    "from sklearn.feature_extraction.text import CountVectorizer"
   ]
  },
  {
   "cell_type": "code",
   "execution_count": 165,
   "id": "744d9ca1",
   "metadata": {},
   "outputs": [],
   "source": [
    "def processText(text):\n",
    "    raw_sentences = sent_tokenize(text)\n",
    "    raw_words = word_tokenize(text)\n",
    "    \n",
    "    res_text = {'sentences': raw_sentences,\n",
    "                    'words': raw_words}\n",
    "    \n",
    "    res_text.update({'cleanedSentences': [re.sub(r'[^\\p{Letter}\\s]','',sentence.lower()) for sentence in res_text['sentences']]})\n",
    "    \n",
    "    tmp = [re.sub(r'[^\\p{Letter}]','',word.lower()) for word in res_text['words']]\n",
    "    words_nonempty = list(filter(lambda x: x != '', tmp))\n",
    "    res_text.update({'cleanedWords': words_nonempty})\n",
    "    \n",
    "\n",
    "    return res_text"
   ]
  },
  {
   "cell_type": "code",
   "execution_count": 176,
   "id": "22a8118e",
   "metadata": {},
   "outputs": [
    {
     "data": {
      "text/plain": [
       "(['my name is mr smith',\n",
       "  'i have a phd from mit',\n",
       "  'and i work at ibm',\n",
       "  'now look at pg',\n",
       "  ' of your text'],\n",
       " ['my',\n",
       "  'name',\n",
       "  'is',\n",
       "  'mr',\n",
       "  'smith',\n",
       "  'i',\n",
       "  'have',\n",
       "  'a',\n",
       "  'phd',\n",
       "  'from',\n",
       "  'mit',\n",
       "  'and',\n",
       "  'i',\n",
       "  'work',\n",
       "  'at',\n",
       "  'ibm',\n",
       "  'now',\n",
       "  'look',\n",
       "  'at',\n",
       "  'pg',\n",
       "  'of',\n",
       "  'your',\n",
       "  'text'])"
      ]
     },
     "execution_count": 176,
     "metadata": {},
     "output_type": "execute_result"
    }
   ],
   "source": [
    "text = 'My name is Mr. Smith. I have a Ph.D. from M.I.T. and I work at I.B.M. Now, look at pg. 12 of your text.'\n",
    "s = processText(text)['cleanedSentences']\n",
    "w = processText(text)['cleanedWords']\n",
    "(s,w)"
   ]
  },
  {
   "cell_type": "code",
   "execution_count": 153,
   "id": "b3a68b64",
   "metadata": {},
   "outputs": [],
   "source": [
    "def getMatrix(sentences):\n",
    "    vectorizer = CountVectorizer()\n",
    "    return vectorizer.fit_transform(sentences)"
   ]
  },
  {
   "cell_type": "code",
   "execution_count": 177,
   "id": "c32528c3",
   "metadata": {},
   "outputs": [],
   "source": [
    "def getSummary(text,k):\n",
    "    \n",
    "    sentences = processText(text)['cleanedSentences']\n",
    "    \n",
    "    matrix = getMatrix(sentences)\n",
    "    projection = PCA(n_components=1)\n",
    "    weights = projection.fit_transform(matrix.toarray())\n",
    "    res = list(zip(weights.transpose()[0],range(112),sentences))\n",
    "    tmp = sorted(res,key=lambda x: x[0],reverse=True)[:k]\n",
    "    return sorted(tmp, key=lambda x: x[1])"
   ]
  },
  {
   "cell_type": "code",
   "execution_count": 179,
   "id": "b71fb396",
   "metadata": {},
   "outputs": [],
   "source": [
    "def getKeywords(text,sw,k):\n",
    "    sentences = processText(text)['cleanedSentences']\n",
    "    \n",
    "    words = processText(text)['cleanedWords']\n",
    "    words_notstop = [w for w in words if not w in sw]\n",
    "\n",
    "    vectorizer = CountVectorizer(stop_words=sw)\n",
    "    matrix = vectorizer.fit_transform(sentences)\n",
    "    \n",
    "    projection = PCA(n_components=1)\n",
    "    tmp = projection.fit_transform(matrix.transpose().toarray())\n",
    "    weights = tmp.transpose()[0]\n",
    "    \n",
    "    return sorted(zip(weights,words_notstop),key=lambda x: x[0], reverse=True)[:k]"
   ]
  },
  {
   "cell_type": "markdown",
   "id": "07551d1e",
   "metadata": {},
   "source": [
    "I will use this function for pulling the RSS feeds of The Guardian"
   ]
  },
  {
   "cell_type": "code",
   "execution_count": 262,
   "id": "4461f2a0",
   "metadata": {},
   "outputs": [],
   "source": [
    "def getSubjectGuardian(subject):\n",
    "    with requests.get(f'https://www.theguardian.com/{subject}/rss') as link:\n",
    "        raw = parse(link.text)\n",
    "    return raw['rss']['channel']['item']"
   ]
  },
  {
   "cell_type": "markdown",
   "id": "c0fcbe8f",
   "metadata": {},
   "source": [
    "I overwrite the function for the RSS feeds of The Sun Daily."
   ]
  },
  {
   "cell_type": "code",
   "execution_count": 263,
   "id": "fc63d315",
   "metadata": {},
   "outputs": [],
   "source": [
    "def getSubjectGuardian2(subject):\n",
    "    with requests.get(f'https://www.thesundaily.my/rss/{subject}.xml') as link:\n",
    "        raw = parse(link.text)\n",
    "    return raw['rss']['channel']['item']"
   ]
  },
  {
   "cell_type": "code",
   "execution_count": 261,
   "id": "c0c150c6",
   "metadata": {},
   "outputs": [],
   "source": [
    "from bs4 import BeautifulSoup\n",
    "\n",
    "def getText(url):\n",
    "    with requests.get(url) as link:\n",
    "        tags = BeautifulSoup(link.content,'html.parser')\n",
    "        \n",
    "    return ' '.join([x.text for x in tags.find_all('p')])"
   ]
  },
  {
   "cell_type": "code",
   "execution_count": 293,
   "id": "19ddac7a",
   "metadata": {},
   "outputs": [
    {
     "data": {
      "text/plain": [
       "(\"'We deserve the spotlight': Taylor and Serrano face off before iconic fight – video\",\n",
       " 'Benfica reach agreement in principle with Schmidt to become new boss')"
      ]
     },
     "execution_count": 293,
     "metadata": {},
     "output_type": "execute_result"
    }
   ],
   "source": [
    "articles_theGuardian = getSubjectGuardian('sport')\n",
    "n = len(articles_theGuardian)\n",
    "\n",
    "articles_theSun = getSubjectGuardian2('Sport')\n",
    "m = len(articles_theSun)\n",
    "\n",
    "k = np.random.randint(n)\n",
    "l = np.random.randint(m)\n",
    "\n",
    "article_theGuardian = getText(articles_theGuardian[k]['link'])\n",
    "articletitle_theGuardian = articles_theGuardian[k]['title']\n",
    "\n",
    "article_theSun = getText(articles_theSun[l]['link'])\n",
    "articletitle_theSun = articles_theSun[l]['title']\n",
    "\n",
    "(articletitle_theGuardian,articletitle_theSun)"
   ]
  },
  {
   "cell_type": "code",
   "execution_count": 294,
   "id": "c3757e67",
   "metadata": {},
   "outputs": [
    {
     "data": {
      "text/plain": [
       "[(-0.10074684842444077,\n",
       "  0,\n",
       "  'boxers katie taylor and amanda serrano faced off on top of the empire state building to launch an historic fight week'),\n",
       " (4.2520232478512785,\n",
       "  2,\n",
       "  'this fight is already making history as the biggest female fight of all time as it looks to put female boxing more firmly on the map'),\n",
       " (-1.5302682661951896,\n",
       "  3,\n",
       "  'source ap   reuters \\n\\n        \\n            wed  apr  \\xa0bst\\n\\n\\n            last modified on wed  apr  \\xa0bst')]"
      ]
     },
     "execution_count": 294,
     "metadata": {},
     "output_type": "execute_result"
    }
   ],
   "source": [
    "getSummary(article_theGuardian,3)"
   ]
  },
  {
   "cell_type": "code",
   "execution_count": 296,
   "id": "58b53596",
   "metadata": {},
   "outputs": [
    {
     "data": {
      "text/plain": [
       "[(1.5453877337298734, 'building'),\n",
       " (1.5453877337298734, 'serrano'),\n",
       " (0.7440573328906237, 'world'),\n",
       " (0.7440573328906237, 'champion'),\n",
       " (0.7440573328906237, 'head'),\n",
       " (0.7440573328906237, 'taylor'),\n",
       " (0.7440573328906237, 'night'),\n",
       " (0.7440573328906237, 'garden'),\n",
       " (0.7440573328906237, 'making'),\n",
       " (0.7440573328906237, 'biggest'),\n",
       " (0.7440573328906237, 'fight'),\n",
       " (0.7440573328906237, 'boxing'),\n",
       " (0.7440573328906237, 'source'),\n",
       " (0.6923167055213204, 'history'),\n",
       " (0.6923167055213204, 'looks')]"
      ]
     },
     "execution_count": 296,
     "metadata": {},
     "output_type": "execute_result"
    }
   ],
   "source": [
    "swEN = set(stopwords.words('english'))\n",
    "getKeywords(article_theGuardian,swEN,15)"
   ]
  },
  {
   "cell_type": "code",
   "execution_count": 297,
   "id": "687e43bb",
   "metadata": {},
   "outputs": [
    {
     "data": {
      "text/plain": [
       "[(2.8036779880938503,\n",
       "  1,\n",
       "  'benfica said that negotiations were taking place for german schmidt whose contract at the dutch eredivisie club expires at the end of the season to replace nelson verissimo'),\n",
       " (-0.15589731794032596,\n",
       "  2,\n",
       "  'the club added that the deal was not yet formalised'),\n",
       " (3.693264678038084,\n",
       "  4,\n",
       "  'he then took over at dutch side psv who last month said that former manchester united and real madrid forward ruud van nistelrooy had signed a threeyear contract to become the head coach from next season')]"
      ]
     },
     "execution_count": 297,
     "metadata": {},
     "output_type": "execute_result"
    }
   ],
   "source": [
    "getSummary(article_theSun,3)"
   ]
  },
  {
   "cell_type": "code",
   "execution_count": 299,
   "id": "2dbff68a",
   "metadata": {},
   "outputs": [
    {
     "data": {
      "text/plain": [
       "[(0.769154357290961, 'taking'),\n",
       " (0.769154357290961, 'place'),\n",
       " (0.769154357290961, 'club'),\n",
       " (0.769154357290961, 'replace'),\n",
       " (0.769154357290961, 'verissimo'),\n",
       " (0.769154357290961, 'deal'),\n",
       " (0.769154357290961, 'name'),\n",
       " (0.769154357290961, 'salzburg'),\n",
       " (0.769154357290961, 'guoan'),\n",
       " (0.769154357290961, 'psv'),\n",
       " (0.769154357290961, 'real'),\n",
       " (0.769154357290961, 'madrid'),\n",
       " (0.769154357290961, 'threeyear'),\n",
       " (0.769154357290961, 'become'),\n",
       " (0.769154357290961, 'head')]"
      ]
     },
     "execution_count": 299,
     "metadata": {},
     "output_type": "execute_result"
    }
   ],
   "source": [
    "getKeywords(article_theSun,swEN,15)"
   ]
  },
  {
   "cell_type": "markdown",
   "id": "c148a291",
   "metadata": {},
   "source": [
    "### Q2\n",
    "\n",
    "Write a function that returns all named entities (proper names, country names, corporation names only) from a URL. Function should take the URL as the input and must return the list of named entities from that URL. Test your code on random articles from the Guardian. Don't use the NLTK's NER that I demonstrated during the lecture. Use the SpaCY's NER function."
   ]
  },
  {
   "cell_type": "markdown",
   "id": "04b00483",
   "metadata": {},
   "source": [
    "I downloaded spacy with this code :\n",
    "```import sys\n",
    "!{sys.executable} -m pip install spacy\n",
    "!{sys.executable} -m spacy download en```"
   ]
  },
  {
   "cell_type": "markdown",
   "id": "43e9083d",
   "metadata": {},
   "source": [
    "I have used spacy.explain(token.label_) for pulling Proper Names, Country Names and Corporation Names. Then, I decided to take the tokens if whose label_ are PERSON, GPE or ORG."
   ]
  },
  {
   "cell_type": "code",
   "execution_count": 410,
   "id": "17662548",
   "metadata": {},
   "outputs": [],
   "source": [
    "import spacy\n",
    "\n",
    "def SpacyNER(text):\n",
    "    nlp = spacy.load(\"en_core_web_sm\")\n",
    "    doc = nlp(text)\n",
    "    res = [ (token.text,token.label_,spacy.explain(token.label_)) for token in doc.ents if token.label_ in ['GPE','PERSON','ORG']]\n",
    "    \n",
    "    #sentences = sent_tokenize(text)\n",
    "    #res = []\n",
    "    #for i in range(len(sentences)):\n",
    "    #    doc = nlp(sentences[i])\n",
    "    #   res.append([ (token.text,token.label_,spacy.explain(token.label_)) for token in doc.ents])\n",
    "\n",
    "\n",
    "    return res"
   ]
  },
  {
   "cell_type": "code",
   "execution_count": 411,
   "id": "814f7f5a",
   "metadata": {},
   "outputs": [
    {
     "data": {
      "text/plain": [
       "[('Leicester', 'PERSON', 'People, including fictional'),\n",
       " ('Gianluca Mancini', 'PERSON', 'People, including fictional'),\n",
       " ('this Europa Conference League',\n",
       "  'ORG',\n",
       "  'Companies, agencies, institutions, etc.'),\n",
       " ('Stadio Olimpico', 'PERSON', 'People, including fictional'),\n",
       " ('José Mourinho', 'PERSON', 'People, including fictional'),\n",
       " ('England', 'GPE', 'Countries, cities, states'),\n",
       " ('Leicester', 'ORG', 'Companies, agencies, institutions, etc.'),\n",
       " ('Roma', 'PERSON', 'People, including fictional'),\n",
       " ('Nicola Zalewski', 'PERSON', 'People, including fictional'),\n",
       " ('Lorenzo Pellegrini', 'PERSON', 'People, including fictional'),\n",
       " ('Kasper Schmeichel', 'PERSON', 'People, including fictional'),\n",
       " ('Tottenham', 'ORG', 'Companies, agencies, institutions, etc.'),\n",
       " ('Jamie Vardy', 'PERSON', 'People, including fictional'),\n",
       " ('Chris Smalling', 'PERSON', 'People, including fictional'),\n",
       " ('Serie', 'ORG', 'Companies, agencies, institutions, etc.'),\n",
       " ('Tammy Abraham', 'PERSON', 'People, including fictional'),\n",
       " ('Timothy Castagne', 'PERSON', 'People, including fictional'),\n",
       " ('Roma', 'PERSON', 'People, including fictional'),\n",
       " ('Abraham', 'PERSON', 'People, including fictional'),\n",
       " ('Nicolò Zaniolo', 'PERSON', 'People, including fictional'),\n",
       " ('Wesley Fofana', 'PERSON', 'People, including fictional'),\n",
       " ('Roma', 'PERSON', 'People, including fictional'),\n",
       " ('Claudio Ranieri', 'PERSON', 'People, including fictional'),\n",
       " ('Premier League', 'ORG', 'Companies, agencies, institutions, etc.'),\n",
       " ('Wes Morgan', 'PERSON', 'People, including fictional'),\n",
       " ('James Maddison', 'PERSON', 'People, including fictional'),\n",
       " ('England', 'GPE', 'Countries, cities, states'),\n",
       " ('Tottenham', 'ORG', 'Companies, agencies, institutions, etc.'),\n",
       " ('Leicester', 'PERSON', 'People, including fictional'),\n",
       " ('Fofana', 'PERSON', 'People, including fictional'),\n",
       " ('Ademola Lookman', 'PERSON', 'People, including fictional'),\n",
       " ('Kiernan Dewsbury-Hall', 'ORG', 'Companies, agencies, institutions, etc.'),\n",
       " ('Vardy', 'PERSON', 'People, including fictional'),\n",
       " ('Kelechi Iheanacho', 'PERSON', 'People, including fictional'),\n",
       " ('Harvey Barnes', 'ORG', 'Companies, agencies, institutions, etc.'),\n",
       " ('Leicester’s', 'ORG', 'Companies, agencies, institutions, etc.'),\n",
       " ('Roger Ibañez', 'PERSON', 'People, including fictional'),\n",
       " ('Iheanacho', 'ORG', 'Companies, agencies, institutions, etc.'),\n",
       " ('Mancini', 'PERSON', 'People, including fictional'),\n",
       " ('Lookman', 'ORG', 'Companies, agencies, institutions, etc.'),\n",
       " ('Brendan Rodgers', 'PERSON', 'People, including fictional'),\n",
       " ('Iheanacho', 'PERSON', 'People, including fictional'),\n",
       " ('Rui Patrício', 'PERSON', 'People, including fictional'),\n",
       " ('Schmeichel', 'PERSON', 'People, including fictional'),\n",
       " ('Sérgio Oliveira', 'PERSON', 'People, including fictional')]"
      ]
     },
     "execution_count": 411,
     "metadata": {},
     "output_type": "execute_result"
    }
   ],
   "source": [
    "articles_theGuardian = getSubjectGuardian('sport')\n",
    "n = len(articles_theGuardian)\n",
    "k = np.random.randint(n)\n",
    "article_theGuardian = getText(articles_theGuardian[k]['link'])\n",
    "\n",
    "SpacyNER(article_theGuardian)"
   ]
  },
  {
   "cell_type": "markdown",
   "id": "82d80aaa",
   "metadata": {},
   "source": [
    "### Q3\n",
    "\n",
    "1. Write a function that returns the most positive and the most negative sentences from a text. The function must take the text as the input and must return a 2-tuple: the first element as the most positive and the second as the most negative sentence with their polarity scores.\n",
    "\n",
    "2. Test your function on random articles from the Guardian."
   ]
  },
  {
   "cell_type": "code",
   "execution_count": 417,
   "id": "cbda454f",
   "metadata": {},
   "outputs": [
    {
     "name": "stderr",
     "output_type": "stream",
     "text": [
      "[nltk_data] Downloading package vader_lexicon to\n",
      "[nltk_data]     C:\\Users\\bjk_a\\AppData\\Roaming\\nltk_data...\n",
      "[nltk_data]   Package vader_lexicon is already up-to-date!\n"
     ]
    },
    {
     "data": {
      "text/plain": [
       "True"
      ]
     },
     "execution_count": 417,
     "metadata": {},
     "output_type": "execute_result"
    }
   ],
   "source": [
    "from nltk.sentiment import SentimentIntensityAnalyzer\n",
    "nltk.download('vader_lexicon')"
   ]
  },
  {
   "cell_type": "code",
   "execution_count": 464,
   "id": "58141954",
   "metadata": {},
   "outputs": [],
   "source": [
    "def Sentiments(text):\n",
    "    analyzer = SentimentIntensityAnalyzer()\n",
    "    analyzer.polarity_scores(text)\n",
    "    sentences = sent_tokenize(text)\n",
    "    res = [(x,analyzer.polarity_scores(x)) for x in sentences]\n",
    "    \n",
    "    # Getting list of Negative Sentences and Positive Sentences\n",
    "    list_neg = [ (sentence[0] , sentence[1]['neg']) for sentence in res]\n",
    "    list_pos = [ (sentence[0] , sentence[1]['pos']) for sentence in res]\n",
    "    \n",
    "    # Getting most negative and most positive\n",
    "    max_neg = max(list_neg,key=lambda x:x[1])\n",
    "    max_pos = max(list_pos,key=lambda x:x[1])\n",
    "    return ({'most negative':max_neg},\n",
    "            {'most positive':max_pos})"
   ]
  },
  {
   "cell_type": "code",
   "execution_count": 465,
   "id": "519b04d7",
   "metadata": {},
   "outputs": [
    {
     "data": {
      "text/plain": [
       "({'most negative': ('After Saturday’s bout, Fury said he was not ruling out exhibition fights or a return to World Wrestling Entertainment.',\n",
       "   0.264)},\n",
       " {'most positive': ('I’ve got success, fame, glory.', 0.835)})"
      ]
     },
     "execution_count": 465,
     "metadata": {},
     "output_type": "execute_result"
    }
   ],
   "source": [
    "articles_theGuardian = getSubjectGuardian('sport')\n",
    "n = len(articles_theGuardian)\n",
    "k = np.random.randint(n)\n",
    "article_theGuardian = getText(articles_theGuardian[k]['link'])\n",
    "\n",
    "Sentiments(article_theGuardian)"
   ]
  },
  {
   "cell_type": "markdown",
   "id": "f88c5fef",
   "metadata": {},
   "source": [
    "We check whether it is true or false."
   ]
  },
  {
   "cell_type": "code",
   "execution_count": 467,
   "id": "2e229dab",
   "metadata": {},
   "outputs": [
    {
     "data": {
      "text/plain": [
       "[('Tyson Fury has reiterated that he is retiring from boxing, stressing that “no amount of money” will tempt him to change the decision.',\n",
       "  {'neg': 0.228, 'neu': 0.772, 'pos': 0.0, 'compound': -0.7351}),\n",
       " ('The 33-year-old undefeated WBC heavyweight champion once again declared himself happy with his lot and ready to hang up his gloves, three days on from beating his fellow Briton Dillian Whyte via a sixth-round stoppage in front of a 94,000 crowd at Wembley.',\n",
       "  {'neg': 0.06, 'neu': 0.739, 'pos': 0.202, 'compound': 0.7964}),\n",
       " ('Speaking on Piers Morgan Uncensored on TalkTV, Fury said: “This is the truth, the gospel truth, nothing but the truth - I’m done.',\n",
       "  {'neg': 0.088, 'neu': 0.677, 'pos': 0.235, 'compound': 0.4404}),\n",
       " ('Every good dog has its day.',\n",
       "  {'neg': 0.0, 'neu': 0.633, 'pos': 0.367, 'compound': 0.4404}),\n",
       " ('Like a great Roman leader said, there will always be somebody else to fight.',\n",
       "  {'neg': 0.135, 'neu': 0.521, 'pos': 0.344, 'compound': 0.6124}),\n",
       " ('“When is enough enough?',\n",
       "  {'neg': 0.0, 'neu': 1.0, 'pos': 0.0, 'compound': 0.0}),\n",
       " ('I’m happy, I’m healthy, I’ve still got my brains, I can still talk.',\n",
       "  {'neg': 0.0, 'neu': 0.61, 'pos': 0.39, 'compound': 0.7506}),\n",
       " ('I’ve got a beautiful wife, I’ve got six kids.',\n",
       "  {'neg': 0.0, 'neu': 0.642, 'pos': 0.358, 'compound': 0.5994}),\n",
       " ('I’ve got umpteen belts, I’ve got plenty of money.',\n",
       "  {'neg': 0.0, 'neu': 1.0, 'pos': 0.0, 'compound': 0.0}),\n",
       " ('I’ve got success, fame, glory.',\n",
       "  {'neg': 0.0, 'neu': 0.165, 'pos': 0.835, 'compound': 0.8779}),\n",
       " ('What more am I doing it for?',\n",
       "  {'neg': 0.0, 'neu': 1.0, 'pos': 0.0, 'compound': 0.0}),\n",
       " ('“Boxing’s a very dangerous sport, you can be taken out with one punch as we’ve seen on Saturday night, and it only takes one unlucky blow and you may not get up off that canvas.',\n",
       "  {'neg': 0.093, 'neu': 0.907, 'pos': 0.0, 'compound': -0.5256}),\n",
       " ('I’m quitting while I’m ahead.',\n",
       "  {'neg': 0.0, 'neu': 1.0, 'pos': 0.0, 'compound': 0.0}),\n",
       " ('I’m undefeated, only the second man in history to retire undefeated heavyweight champion.',\n",
       "  {'neg': 0.0, 'neu': 0.755, 'pos': 0.245, 'compound': 0.5994}),\n",
       " ('“I’m very, very happy and very content in my heart with what I’ve done, what I’ve achieved.',\n",
       "  {'neg': 0.0, 'neu': 0.789, 'pos': 0.211, 'compound': 0.6453}),\n",
       " ('It’s not about money for me.',\n",
       "  {'neg': 0.0, 'neu': 1.0, 'pos': 0.0, 'compound': 0.0}),\n",
       " ('A lot of people in this world, everything is about money, and more money and more money.',\n",
       "  {'neg': 0.0, 'neu': 1.0, 'pos': 0.0, 'compound': 0.0}),\n",
       " ('I’ve got enough money.',\n",
       "  {'neg': 0.0, 'neu': 1.0, 'pos': 0.0, 'compound': 0.0}),\n",
       " ('I’ve got enough of everything I need.',\n",
       "  {'neg': 0.0, 'neu': 1.0, 'pos': 0.0, 'compound': 0.0}),\n",
       " ('I’m a very simple man.',\n",
       "  {'neg': 0.0, 'neu': 1.0, 'pos': 0.0, 'compound': 0.0}),\n",
       " ('I drive an 07 VW Passat.',\n",
       "  {'neg': 0.0, 'neu': 1.0, 'pos': 0.0, 'compound': 0.0}),\n",
       " ('I’m a very normal person, I don’t need tons of money to impress everybody.” Fury, whose professional record shows 32 wins and one draw, with 23 victories by KO, added: “It’s not worth it [continuing].',\n",
       "  {'neg': 0.131, 'neu': 0.708, 'pos': 0.161, 'compound': 0.3036}),\n",
       " ('I’ve got a family to raise.',\n",
       "  {'neg': 0.0, 'neu': 1.0, 'pos': 0.0, 'compound': 0.0}),\n",
       " ('I have four young kids to raise and two older ones.',\n",
       "  {'neg': 0.0, 'neu': 1.0, 'pos': 0.0, 'compound': 0.0}),\n",
       " ('I’ve been away for the last 10 years on the road, all over the world, travelling for boxing.',\n",
       "  {'neg': 0.0, 'neu': 1.0, 'pos': 0.0, 'compound': 0.0}),\n",
       " ('When do I get time to be a father or a husband, a brother, a son.',\n",
       "  {'neg': 0.0, 'neu': 1.0, 'pos': 0.0, 'compound': 0.0}),\n",
       " ('I need this personal time.',\n",
       "  {'neg': 0.0, 'neu': 1.0, 'pos': 0.0, 'compound': 0.0}),\n",
       " ('“The fans will always want more, they are always baying for more blood.',\n",
       "  {'neg': 0.0, 'neu': 0.902, 'pos': 0.098, 'compound': 0.0772}),\n",
       " ('But at the end of the day I don’t have anything more to give.',\n",
       "  {'neg': 0.0, 'neu': 1.0, 'pos': 0.0, 'compound': 0.0}),\n",
       " ('I’ve given everything I’ve got.',\n",
       "  {'neg': 0.0, 'neu': 1.0, 'pos': 0.0, 'compound': 0.0}),\n",
       " ('I’ve been a professional 14 years, I’ve been boxing over 20 years.',\n",
       "  {'neg': 0.0, 'neu': 1.0, 'pos': 0.0, 'compound': 0.0}),\n",
       " ('“My time is to go out on a high.',\n",
       "  {'neg': 0.0, 'neu': 1.0, 'pos': 0.0, 'compound': 0.0}),\n",
       " ('I always said that I wanted to walk away on top of the sport, and do it on my terms, and I didn’t want to be the person who said: ‘Well, I should have maybe retired two years ago,’ or whatever.',\n",
       "  {'neg': 0.0, 'neu': 0.919, 'pos': 0.081, 'compound': 0.2732}),\n",
       " ('“I just wanted to walk out on top, go out with a bang.',\n",
       "  {'neg': 0.0, 'neu': 0.859, 'pos': 0.141, 'compound': 0.2023}),\n",
       " ('Nearly 100,000 at Wembley, with a knockout performance.',\n",
       "  {'neg': 0.0, 'neu': 1.0, 'pos': 0.0, 'compound': 0.0}),\n",
       " ('They will not forget the Gypsy King in a hurry, and no amount of material assets or money will make me come back out of retirement because I’m very happy.” Fury has indicated he has no interest in facing either Oleksandr Usyk, the WBA, IBF and WBO champion, or Anthony Joshua, whose rematch is pencilled in for this summer.',\n",
       "  {'neg': 0.12, 'neu': 0.732, 'pos': 0.147, 'compound': 0.2234}),\n",
       " ('After Saturday’s bout, Fury said he was not ruling out exhibition fights or a return to World Wrestling Entertainment.',\n",
       "  {'neg': 0.264, 'neu': 0.62, 'pos': 0.116, 'compound': -0.5574}),\n",
       " ('When asked by Morgan on Wednesday what his big aim in life now was, Fury replied: “My big aim in life now Piers is to get a job next to you, interviewing people and talking my mind!”',\n",
       "  {'neg': 0.102, 'neu': 0.898, 'pos': 0.0, 'compound': -0.6114})]"
      ]
     },
     "execution_count": 467,
     "metadata": {},
     "output_type": "execute_result"
    }
   ],
   "source": [
    "text = article_theGuardian\n",
    "analyzer = SentimentIntensityAnalyzer()\n",
    "analyzer.polarity_scores(text)\n",
    "sentences = sent_tokenize(text)\n",
    "[(x,analyzer.polarity_scores(x)) for x in sentences]"
   ]
  },
  {
   "cell_type": "code",
   "execution_count": null,
   "id": "101b8243",
   "metadata": {},
   "outputs": [],
   "source": []
  }
 ],
 "metadata": {
  "kernelspec": {
   "display_name": "Python 3 (ipykernel)",
   "language": "python",
   "name": "python3"
  },
  "language_info": {
   "codemirror_mode": {
    "name": "ipython",
    "version": 3
   },
   "file_extension": ".py",
   "mimetype": "text/x-python",
   "name": "python",
   "nbconvert_exporter": "python",
   "pygments_lexer": "ipython3",
   "version": "3.9.7"
  }
 },
 "nbformat": 4,
 "nbformat_minor": 5
}
